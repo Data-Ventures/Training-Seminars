{
 "metadata": {
  "name": ""
 },
 "nbformat": 3,
 "nbformat_minor": 0,
 "worksheets": [
  {
   "cells": [
    {
     "cell_type": "markdown",
     "metadata": {},
     "source": [
      "<font color=\"#900000\">Welcome to Harvard College Data Ventures</font>"
     ]
    },
    {
     "cell_type": "heading",
     "level": 4,
     "metadata": {},
     "source": [
      "Harvard College | Fall 2014 | Session 0: Introduction, Setup, Computing Environments, and Data Science Overview\n",
      "\n"
     ]
    },
    {
     "cell_type": "markdown",
     "metadata": {},
     "source": [
      "<center>\n",
      "<img src=\"http://www.bigdata-madesimple.com/wp-content/uploads/2014/02/big-data-darpa.jpg\" height=\"100\" width=\"500\" alt=\"Big Data\">\n",
      "</center>"
     ]
    },
    {
     "cell_type": "heading",
     "level": 3,
     "metadata": {},
     "source": [
      "<font color=\"000099\">Introduction</font>"
     ]
    },
    {
     "cell_type": "markdown",
     "metadata": {},
     "source": [
      "Greetings! Welcome to the introductory `iPython Notebook` session of the Harvard College chapter of the intercollegiate `Data Ventures`. We are very pleased that you will be joining us in learning about powerful analytical tools that can help you draw more insight from your research at Harvard and beyond. In this session, we will be giving the rundown of three primary statistical and scientific computing platforms popular for large-scale data analysis and computation: iPython Notebook, RStudio, Octave/Matlab, and Julia. Our environment of choice for its ease of use and excellent readability is the iPython notebook. Python is also the more commonly known language - often the first programming language picked up - whereas R tends to attract statisticians, Matlab tends to attract those from the natural sciences, and Julia tends to be less widely used. We encourage students to pick up the basics of Python from this <a href=\"http://www.greenteapress.com/thinkpython/html/index.html\">tutorial</a>. Students should be familiar with rudimentary coding, e.g. loops and conditionals, but more advanced development skills are not necessary as we will make heavy use of scientific, statistical, and machine learning libraries and packages in all languages used. Programming support throughout the period of your comp will be provided *mostly* for Python and comp sessions will go through explicit code and computational techniques for the underlying math driving all our analysis. However, we encourage work in other environments as well, and some support may be given for and some comp sessions will also be offered in R and Octave/Matlab. "
     ]
    },
    {
     "cell_type": "markdown",
     "metadata": {},
     "source": [
      "At $Data$ $Ventures$, we believe it is important not only to know how to code but to understand the underlying math behind every computation. Comp submissions must provide not only correct numerical solutions but also sound, logical reasoning for all steps taken, where apprropriate. This will become invaluable in our chapter's work on Kaggle datasets and our not-for-profit analysis for faculty projects and other solicited assignments. A lot of real data science is acocomplished as parts of data science teams, all work submitted must be done in groups (number of partners to be decided, with a current estimated ballpark of three partners to a group). We estimate 5-7 in-session assignments, plus a final project. As outlined in the introductory meeting, up to three sessions may be missed without excuse, but all assignments must be submitted as part of a team in order to join `Data Ventures` as a project developer or analyst (only two meetings may be missed without excuse for prospective board members). Assignments will vary in length, usually just one or two week projects, depending on the current topic being covered in the curriculum. "
     ]
    },
    {
     "cell_type": "markdown",
     "metadata": {},
     "source": [
      "The two-part comp will culminate in a final project, which must be a significant data analysis that will demand a slightly deeper time commitment than the single-concept assignments you will have worked on during the semester and will also require fully documented, literate statistical programming. This should be a *coherent* application of the methods you have learned. Please do not plan to rehash work you have done for your actual courses or internships - you may choose to do so for work done within Data Ventures. Make sure you have rights to any data you choose to use (see http://archive.ics.uci.edu/ml/ and Harvard's DataVerse). The final project will be due after finals period and will be evaluated well before the start of the next term. You can work on the final project from students currently in the MIT or Columbia chapters of Data Ventures. Understand that you should be prepared to work virtually with your team members in this case. Opportunities to meet up with our Data Ventures neighbors next door will happen at the next MIT Hackathon, in J-term (MIT's Independent Activities Period, IAP), and at local data conferences currently in the works. More details to come."
     ]
    },
    {
     "cell_type": "heading",
     "level": 3,
     "metadata": {},
     "source": [
      "<font color=\"000099\">Rundown of Computing Environments"
     ]
    },
    {
     "cell_type": "markdown",
     "metadata": {},
     "source": [
      "**iPython Notebook**. This will be our environment of choice. "
     ]
    },
    {
     "cell_type": "markdown",
     "metadata": {},
     "source": [
      "**RStudio**. Some support will be provided to R coders. R is not exactly ideal for big data as data in R must be stored in physical memory. "
     ]
    },
    {
     "cell_type": "markdown",
     "metadata": {},
     "source": [
      "**Matlab/Octave**. Similar programming languages, the latter freely distributed. "
     ]
    },
    {
     "cell_type": "heading",
     "level": 3,
     "metadata": {},
     "source": [
      "<font color=\"000099\">Overview of Statistics and Machine Learning</font>"
     ]
    },
    {
     "cell_type": "heading",
     "level": 4,
     "metadata": {},
     "source": [
      "<font color=\"green\">|| \u201cIt\u2019s a revolution.\u201d -- Gary King, Director of the Institute for Quantitative Social Science (IQSS) at Harvard University</font>"
     ]
    },
    {
     "cell_type": "markdown",
     "metadata": {},
     "source": [
      "<b>\"Welcome to the age of big data\"</b> (The New York Times, February 2012). We have long been in a new age of information, one that is revolutionizing advancements in medicine, finance, technology, intergalactic exploration, and so much more. For every field there is a computational counterpart: e.g. computational chemistry, computational neuroscience, etc. Even your experience on Facebook, from your ability to find new friends and tag current ones, relies heavily on statistical and machine learning algorithms, the prototypes of which you will see in the weeks ahead. "
     ]
    },
    {
     "cell_type": "markdown",
     "metadata": {},
     "source": [
      "Machine learning is a subset of artificial intelligence, which is the dually theoretical and applied domain of computer science in which tasks typically performed under human intelligence, e.g. decision-making and speech recognition, are developed in and performed by computer systems. In machine learning, the tasks specifically focus on dealing with and learning from large-scale data, and naturally overlaps heavily with statistics and mathematical computation. Machine learning has its own prominent subfields such as in natural languages processing and recommender systems, both of which we will discuss in your journey through Data Ventures. "
     ]
    },
    {
     "cell_type": "markdown",
     "metadata": {},
     "source": [
      "**Supervised Learning**. Supervised learning, the more common subdomain in machine learning, relies on the premise of training and test datasets. Given training data, algorithms are 'trained' to infer a function, which is use to predict answers for untrained examples in the test set. In supervised learning, the \"right answers\" are already there and so we can easily measure performance of our learning algorithms. A frequently used supervised technique is logistic regression for classification. "
     ]
    },
    {
     "cell_type": "markdown",
     "metadata": {},
     "source": [
      "**Unsupervised Learning**. In unsupervised learning, we do not already have the right answers and we try to automatically infer structure in the data. A common and relatively simple algorithm is <i>k</i>-means clustering. "
     ]
    },
    {
     "cell_type": "markdown",
     "metadata": {},
     "source": [
      "**... And More!** There are semi-supervised algorithms as well, and parts of the this broad umbrella of Data Science that does not lie strictly within AI. We will cover additional material such as optimization techniques (applied math) and experimental design (statistics). Broadly, your comp experience in Data Ventures and crash course and primer material for the exciting stuff you will encounter in Stat 111, Stat 121, Stat 183, Stat 186, AM 121, CS 109, CS 181, Stat 220, CS 205, and in data-crunching experiences outside Harvard. "
     ]
    },
    {
     "cell_type": "heading",
     "level": 3,
     "metadata": {},
     "source": [
      "<font color=\"900000\">Assignment 0: Scrape the Web"
     ]
    },
    {
     "cell_type": "markdown",
     "metadata": {},
     "source": [
      "In this assignment, you will be scraping the web. This does not need to submitted and you need not work in groups, but we do expect you to understand how to get large datasets from the Internet. "
     ]
    },
    {
     "cell_type": "code",
     "collapsed": false,
     "input": [],
     "language": "python",
     "metadata": {},
     "outputs": []
    },
    {
     "cell_type": "heading",
     "level": 3,
     "metadata": {},
     "source": [
      "Questions?"
     ]
    },
    {
     "cell_type": "markdown",
     "metadata": {},
     "source": [
      "--> For questions regarding comp material and the planned curriculum lined up, kindly contact Amy. \n",
      "\n",
      "--> For questions regarding potential projects upon completion of comp, kindly contact Sam. \n",
      "\n",
      "--> For questions regarding web access of material, kindly contact Kevin. \n",
      "\n",
      "--> For submission issues, please email harvard.dataventures+submission@gmail.com. \n",
      "\n",
      "--> For questions regarding concepts from any session, please contact that session's leader. Please also message us electronically during lecture so that we can answer anonymous questions as well. \n",
      "\n",
      "--> Got an idea? Want to take `Data Ventures` to a new level? Please email `harvard.dataventures AT gmail.com`. We would love to hear from you! "
     ]
    },
    {
     "cell_type": "heading",
     "level": 6,
     "metadata": {},
     "source": [
      "This notebook was prepared by Amy Mir, Harvard '15. If you have any questions or suggestions to add to or clarify material, please email her at amy.mir@outlook.com. "
     ]
    }
   ],
   "metadata": {}
  }
 ]
}